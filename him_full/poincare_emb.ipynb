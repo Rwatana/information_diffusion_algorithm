{
 "cells": [
  {
   "cell_type": "code",
   "execution_count": 5,
   "id": "ada99897",
   "metadata": {},
   "outputs": [
    {
     "data": {
      "text/plain": [
       "'viz_poincare.ipynb'"
      ]
     },
     "execution_count": 5,
     "metadata": {},
     "output_type": "execute_result"
    }
   ],
   "source": [
    "import nbformat as nbf\n",
    "from nbformat.v4 import new_notebook, new_code_cell, new_markdown_cell\n",
    "import json, os, textwrap, uuid, pathlib\n",
    "\n",
    "nb = new_notebook()\n",
    "\n",
    "md_intro = new_markdown_cell(\"# Poincaré Disk Visualization of Node Trajectories\\n\"\n",
    "                             \"This notebook loads the saved embedding trajectory `traj.pt` \"\n",
    "                             \"(generated during HIM training) and visualizes selected nodes' \"\n",
    "                             \"movement on the Poincaré disk.\\n\\n\"\n",
    "                             \"**Requirements**: `torch`, `matplotlib`\\n\")\n",
    "\n",
    "code_imports = new_code_cell(textwrap.dedent(\"\"\"\n",
    "    import torch\n",
    "    import matplotlib.pyplot as plt\n",
    "    from pathlib import Path\n",
    "    \"\"\").strip())\n",
    "\n",
    "code_helper = new_code_cell(textwrap.dedent(\"\"\"\n",
    "    def lorentz_to_poincare(x: torch.Tensor, gamma: float = 1.0) -> torch.Tensor:\n",
    "        \\\"\\\"\\\"Convert Lorentz coordinates (x0, x1, …) to Poincaré disk coordinates.\\\"\\\"\\\"\n",
    "        sqrt_g = gamma ** 0.5\n",
    "        return x[..., 1:] / (x[..., :1] + sqrt_g)\n",
    "    \"\"\").strip())\n",
    "\n",
    "code_load = new_code_cell(textwrap.dedent(\"\"\"\n",
    "    # === Configuration ===\n",
    "    TRAJ_PATH = Path('traj.pt')   # same directory\n",
    "    NODE_IDS  = [0, 7, 23, 42]    # edit as you like\n",
    "    GAMMA     = 1.0               # curvature parameter used in training\n",
    "    \n",
    "    assert TRAJ_PATH.exists(), f'{TRAJ_PATH} not found'\n",
    "    \n",
    "    traj = torch.load(TRAJ_PATH)   # list[Tensor] (epochs, N, d+1)\n",
    "    print(f'Loaded {len(traj)} epochs, {traj[0].shape[0]} nodes.')\n",
    "    \"\"\").strip())\n",
    "\n",
    "code_plot = new_code_cell(textwrap.dedent(\"\"\"\n",
    "    fig, ax = plt.subplots(figsize=(6,6))\n",
    "    # unit circle\n",
    "    circle = plt.Circle((0,0), 1.0, fill=False, linestyle='--')\n",
    "    ax.add_artist(circle)\n",
    "    \n",
    "    for nid in NODE_IDS:\n",
    "        pts = torch.stack([lorentz_to_poincare(epoch_emb[nid], GAMMA) for epoch_emb in traj])\n",
    "        ax.plot(pts[:,0], pts[:,1], marker='o', label=f'node {nid}')\n",
    "    \n",
    "    ax.set_aspect('equal')\n",
    "    ax.set_xlim(-1.05,1.05)\n",
    "    ax.set_ylim(-1.05,1.05)\n",
    "    ax.set_title('Node trajectories in the Poincaré disk')\n",
    "    ax.legend(loc='best')\n",
    "    plt.show()\n",
    "    \"\"\").strip())\n",
    "\n",
    "nb.cells = [md_intro, code_imports, code_helper, code_load, code_plot]\n",
    "\n",
    "out_path = \"viz_poincare.ipynb\"\n",
    "with open(out_path, \"w\", encoding=\"utf-8\") as f:\n",
    "    nbf.write(nb, f)\n",
    "\n",
    "out_path\n"
   ]
  }
 ],
 "metadata": {
  "kernelspec": {
   "display_name": "pems-metra",
   "language": "python",
   "name": "python3"
  },
  "language_info": {
   "codemirror_mode": {
    "name": "ipython",
    "version": 3
   },
   "file_extension": ".py",
   "mimetype": "text/x-python",
   "name": "python",
   "nbconvert_exporter": "python",
   "pygments_lexer": "ipython3",
   "version": "3.11.12"
  }
 },
 "nbformat": 4,
 "nbformat_minor": 5
}
